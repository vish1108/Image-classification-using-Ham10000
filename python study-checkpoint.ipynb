{
 "cells": [
  {
   "cell_type": "code",
   "execution_count": 9,
   "id": "ed1fda63",
   "metadata": {},
   "outputs": [
    {
     "name": "stdout",
     "output_type": "stream",
     "text": [
      "Hi vishal waghmare there\n",
      "Good morning\n"
     ]
    }
   ],
   "source": [
    "def greet(first_name, last_name):\n",
    "    print(f\"Hi {first_name} {last_name} there\")\n",
    "    print(\"Good morning\")\n",
    "    \n",
    "    \n",
    "greet(\"vishal\",\"waghmare\")"
   ]
  },
  {
   "cell_type": "code",
   "execution_count": 21,
   "id": "df1d096e",
   "metadata": {},
   "outputs": [
    {
     "data": {
      "text/plain": [
       "16"
      ]
     },
     "execution_count": 21,
     "metadata": {},
     "output_type": "execute_result"
    }
   ],
   "source": [
    "def math(a, b):\n",
    "    c = a*b\n",
    "    return c\n",
    "    \n",
    "    \n",
    "math(2,8)"
   ]
  },
  {
   "cell_type": "code",
   "execution_count": 23,
   "id": "3dff97cf",
   "metadata": {},
   "outputs": [
    {
     "name": "stdout",
     "output_type": "stream",
     "text": [
      "3\n"
     ]
    }
   ],
   "source": [
    "def increment(number, by):\n",
    "    return number + by\n",
    "print(increment(2, 1))"
   ]
  },
  {
   "cell_type": "code",
   "execution_count": 24,
   "id": "a0eb291e",
   "metadata": {},
   "outputs": [
    {
     "name": "stdout",
     "output_type": "stream",
     "text": [
      "(2, 3, 4, 5)\n"
     ]
    }
   ],
   "source": [
    "def multiply(*numbers):\n",
    "    print(numbers)\n",
    "multiply(2,3,4,5)\n"
   ]
  },
  {
   "cell_type": "code",
   "execution_count": null,
   "id": "f45211ca",
   "metadata": {},
   "outputs": [],
   "source": []
  }
 ],
 "metadata": {
  "kernelspec": {
   "display_name": "Python 3 (ipykernel)",
   "language": "python",
   "name": "python3"
  },
  "language_info": {
   "codemirror_mode": {
    "name": "ipython",
    "version": 3
   },
   "file_extension": ".py",
   "mimetype": "text/x-python",
   "name": "python",
   "nbconvert_exporter": "python",
   "pygments_lexer": "ipython3",
   "version": "3.10.5"
  }
 },
 "nbformat": 4,
 "nbformat_minor": 5
}
